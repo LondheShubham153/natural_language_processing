{
  "cells": [
    {
      "cell_type": "markdown",
      "metadata": {
        "id": "view-in-github",
        "colab_type": "text"
      },
      "source": [
        "<a href=\"https://colab.research.google.com/github/LondheShubham153/natural_language_processing/blob/main/nlp_text_basics.ipynb\" target=\"_parent\"><img src=\"https://colab.research.google.com/assets/colab-badge.svg\" alt=\"Open In Colab\"/></a>"
      ]
    },
    {
      "cell_type": "markdown",
      "metadata": {
        "collapsed": true,
        "id": "Rd_Hlr2O6pL5"
      },
      "source": [
        "# Python Text Basics Assessment\n",
        "\n",
        "Welcome to your assessment! Complete the tasks described in bold below by typing the relevant code in the cells.<br>\n",
        "You can compare your answers to the Solutions notebook provided in this folder."
      ]
    },
    {
      "cell_type": "markdown",
      "metadata": {
        "id": "8bTdT-_46pL8"
      },
      "source": [
        "## f-Strings\n",
        "#### 1. Print an f-string that displays `NLP stands for Natural Language Processing` using the variables provided."
      ]
    },
    {
      "cell_type": "code",
      "execution_count": null,
      "metadata": {
        "id": "rwKRR-IT6pL9",
        "outputId": "5a008ad4-5c55-4114-ff05-d6952b95d11e"
      },
      "outputs": [
        {
          "name": "stdout",
          "output_type": "stream",
          "text": [
            "NLP stands for Natural Language Processing\n"
          ]
        }
      ],
      "source": [
        "abbr = 'NLP'\n",
        "full_text = 'Natural Language Processing'\n",
        "\n",
        "# Enter your code here:\n",
        "print(f'{abbr} stands for {full_text}')"
      ]
    },
    {
      "cell_type": "markdown",
      "metadata": {
        "id": "0Ae_6U1P6pL-"
      },
      "source": [
        "## Files\n",
        "#### 2. Create a file in the current working directory called `contacts.txt` by running the cell below:"
      ]
    },
    {
      "cell_type": "code",
      "execution_count": null,
      "metadata": {
        "id": "DY_eZMOj6pL-",
        "outputId": "7dc34f20-a0c8-47aa-8d72-399dbe596540"
      },
      "outputs": [
        {
          "name": "stdout",
          "output_type": "stream",
          "text": [
            "Overwriting contacts.txt\n"
          ]
        }
      ],
      "source": [
        "%%writefile contacts.txt\n",
        "First_Name Last_Name, Title, Extension, Email"
      ]
    },
    {
      "cell_type": "markdown",
      "metadata": {
        "id": "caGxE8q-6pL_"
      },
      "source": [
        "#### 3. Open the file and use .read() to save the contents of the file to a string called `fields`.  Make sure the file is closed at the end."
      ]
    },
    {
      "cell_type": "code",
      "execution_count": null,
      "metadata": {
        "id": "6Tv5r9l26pMA",
        "outputId": "a5844d04-e023-4819-857f-4018ba54f968"
      },
      "outputs": [
        {
          "data": {
            "text/plain": [
              "'First_Name Last_Name, Title, Extension, Email\\n'"
            ]
          },
          "execution_count": 3,
          "metadata": {},
          "output_type": "execute_result"
        }
      ],
      "source": [
        "# Write your code here:\n",
        "with open('contacts.txt') as c:\n",
        "    fields = c.read()\n",
        "\n",
        "\n",
        "    \n",
        "# Run fields to see the contents of contacts.txt:\n",
        "fields"
      ]
    },
    {
      "cell_type": "markdown",
      "metadata": {
        "id": "WAOGWwkV6pMA"
      },
      "source": [
        "## Working with PDF Files\n",
        "#### 4. Use PyPDF2 to open the file `Business_Proposal.pdf`. Extract the text of page 2."
      ]
    },
    {
      "cell_type": "code",
      "execution_count": null,
      "metadata": {
        "id": "BF2TdyDo6pMB",
        "outputId": "a691046c-1f48-4b36-8f13-b1a9f520b493"
      },
      "outputs": [
        {
          "name": "stdout",
          "output_type": "stream",
          "text": [
            "Requirement already satisfied: PyPDF2 in c:\\users\\shikh\\anaconda3\\lib\\site-packages (1.27.5)\n"
          ]
        }
      ],
      "source": [
        "!pip install PyPDF2"
      ]
    },
    {
      "cell_type": "code",
      "execution_count": null,
      "metadata": {
        "id": "kLmqlJth6pMB",
        "outputId": "ace3cb6c-e33d-4f1b-ef91-39ff9bba1f3c"
      },
      "outputs": [
        {
          "name": "stdout",
          "output_type": "stream",
          "text": [
            " AUTHOR S:\n",
            "  \n",
            " Amy  B ake r,  Fi n an c e  C h air,  x345 ,  ab ake r@ o u rcom p an y. c om\n",
            "  \n",
            " C h ris   Do n ald so n ,  Acc oun tin g  Dir. ,  x621 ,  c d onald so n @ ourc omp an y. c om\n",
            "  \n",
            " Erin  Fr ee m an ,  Sr .   VP ,  x879 ,  efreem an @ our c omp an y. c om\n",
            "  \n",
            "\n"
          ]
        }
      ],
      "source": [
        "# Perform import\n",
        "import PyPDF2\n",
        "\n",
        "# Open the file as a binary object\n",
        "f = open('Business_Proposal.pdf','rb')\n",
        "\n",
        "# Use PyPDF2 to read the text of the file\n",
        "pdf_reader = PyPDF2.PdfFileReader(f)\n",
        "\n",
        "\n",
        "\n",
        "# Get the text from page 2 (CHALLENGE: Do this in one step!)\n",
        "page_two_text = pdf_reader.getPage(1).extractText()\n",
        "\n",
        "\n",
        "\n",
        "# Close the file\n",
        "f.close()\n",
        "\n",
        "# Print the contents of page_two_text\n",
        "print(page_two_text)"
      ]
    },
    {
      "cell_type": "markdown",
      "metadata": {
        "id": "VwBhonnE6pMC"
      },
      "source": [
        "#### 5. Open the file `contacts.txt` in append mode. Add the text of page 2 from above to `contacts.txt`.\n",
        "\n",
        "#### CHALLENGE: See if you can remove the word \"AUTHORS:\""
      ]
    },
    {
      "cell_type": "code",
      "execution_count": null,
      "metadata": {
        "id": "8KWQg5WZ6pMC",
        "outputId": "6131dc65-a773-415a-dab0-3b10faa35362"
      },
      "outputs": [
        {
          "name": "stdout",
          "output_type": "stream",
          "text": [
            "First_Name Last_Name, Title, Extension, Email\n",
            " AUTHOR S:\n",
            "  \n",
            " Amy  B ake r,  Fi n an c e  C h air,  x345 ,  ab ake r@ o u rcom p an y. c om\n",
            "  \n",
            " C h ris   Do n ald so n ,  Acc oun tin g  Dir. ,  x621 ,  c d onald so n @ ourc omp an y. c om\n",
            "  \n",
            " Erin  Fr ee m an ,  Sr .   VP ,  x879 ,  efreem an @ our c omp an y. c om\n",
            "  \n",
            "\n"
          ]
        }
      ],
      "source": [
        "# Simple Solution:\n",
        "with open('contacts.txt','a+') as c:\n",
        "    c.write(page_two_text)\n",
        "    c.seek(0)\n",
        "    print(c.read())\n",
        "\n",
        "\n"
      ]
    },
    {
      "cell_type": "code",
      "execution_count": null,
      "metadata": {
        "id": "N4QM-g2A6pMD",
        "outputId": "77c6c354-39ac-4cf7-fb86-a829fb47dcb9"
      },
      "outputs": [
        {
          "name": "stdout",
          "output_type": "stream",
          "text": [
            "First_Name Last_Name, Title, Extension, Email\n",
            " AUTHOR S:\n",
            "  \n",
            " Amy  B ake r,  Fi n an c e  C h air,  x345 ,  ab ake r@ o u rcom p an y. c om\n",
            "  \n",
            " C h ris   Do n ald so n ,  Acc oun tin g  Dir. ,  x621 ,  c d onald so n @ ourc omp an y. c om\n",
            "  \n",
            " Erin  Fr ee m an ,  Sr .   VP ,  x879 ,  efreem an @ our c omp an y. c om\n",
            "  \n",
            "S:\n",
            "  \n",
            " Amy  B ake r,  Fi n an c e  C h air,  x345 ,  ab ake r@ o u rcom p an y. c om\n",
            "  \n",
            " C h ris   Do n ald so n ,  Acc oun tin g  Dir. ,  x621 ,  c d onald so n @ ourc omp an y. c om\n",
            "  \n",
            " Erin  Fr ee m an ,  Sr .   VP ,  x879 ,  efreem an @ our c omp an y. c om\n",
            "  \n",
            "\n"
          ]
        }
      ],
      "source": [
        "# CHALLENGE Solution (re-run the %%writefile cell above to obtain an unmodified contacts.txt file):\n",
        "with open('contacts.txt','a+') as c:\n",
        "    c.write(page_two_text[8:])\n",
        "    c.seek(0)\n",
        "    print(c.read())\n",
        "\n",
        "\n"
      ]
    },
    {
      "cell_type": "markdown",
      "metadata": {
        "id": "thu9bzDM6pMD"
      },
      "source": [
        "## Regular Expressions\n",
        "#### 6. Using the `page_two_text` variable created above, extract any email addresses that were contained in the file `Business_Proposal.pdf`."
      ]
    },
    {
      "cell_type": "code",
      "execution_count": null,
      "metadata": {
        "id": "7CnzWKbP6pME",
        "outputId": "2780974b-bf08-487e-eb15-52bcaa62aebf"
      },
      "outputs": [
        {
          "data": {
            "text/plain": [
              "[]"
            ]
          },
          "execution_count": 9,
          "metadata": {},
          "output_type": "execute_result"
        }
      ],
      "source": [
        "import re\n",
        "\n",
        "# Enter your regex pattern here. This may take several tries!\n",
        "pattern = r'\\w+@\\w+.\\w{3}'\n",
        "\n",
        "re.findall(pattern, page_two_text)"
      ]
    },
    {
      "cell_type": "markdown",
      "metadata": {
        "id": "_FxSsSrh6pME"
      },
      "source": [
        "### Great job!"
      ]
    }
  ],
  "metadata": {
    "kernelspec": {
      "display_name": "Python 3",
      "language": "python",
      "name": "python3"
    },
    "language_info": {
      "codemirror_mode": {
        "name": "ipython",
        "version": 3
      },
      "file_extension": ".py",
      "mimetype": "text/x-python",
      "name": "python",
      "nbconvert_exporter": "python",
      "pygments_lexer": "ipython3",
      "version": "3.8.8"
    },
    "colab": {
      "name": "nlp_text_basics.ipynb",
      "provenance": [],
      "include_colab_link": true
    }
  },
  "nbformat": 4,
  "nbformat_minor": 0
}