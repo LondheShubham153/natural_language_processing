{
  "cells": [
    {
      "cell_type": "markdown",
      "metadata": {
        "id": "view-in-github",
        "colab_type": "text"
      },
      "source": [
        "<a href=\"https://colab.research.google.com/github/LondheShubham153/natural_language_processing/blob/main/Python_Text_Basics.ipynb\" target=\"_parent\"><img src=\"https://colab.research.google.com/assets/colab-badge.svg\" alt=\"Open In Colab\"/></a>"
      ]
    },
    {
      "cell_type": "markdown",
      "metadata": {
        "collapsed": true,
        "id": "zIcTaE8uqlqz"
      },
      "source": [
        "# Python Text Basics Assessment\n",
        "\n",
        "Welcome to your assessment! Complete the tasks described in bold below by typing the relevant code in the cells.<br>\n",
        "You can compare your answers to the Solutions notebook provided in this folder."
      ]
    },
    {
      "cell_type": "markdown",
      "metadata": {
        "id": "fEwWHNDiqlq3"
      },
      "source": [
        "## f-Strings\n",
        "#### 1. Print an f-string that displays `NLP stands for Natural Language Processing` using the variables provided."
      ]
    },
    {
      "cell_type": "code",
      "execution_count": null,
      "metadata": {
        "colab": {
          "base_uri": "https://localhost:8080/"
        },
        "id": "6se_BJrHqlq4",
        "outputId": "eb68679c-b2b0-4bf5-a767-61d06ef9a292"
      },
      "outputs": [
        {
          "output_type": "stream",
          "name": "stdout",
          "text": [
            "NLP stands for Natural Language Processing\n"
          ]
        }
      ],
      "source": [
        "abbr = 'NLP'\n",
        "full_text = 'Natural Language Processing'\n",
        "\n",
        "# Enter your code here:\n",
        "print(f\"{abbr} stands for {full_text}\")"
      ]
    },
    {
      "cell_type": "markdown",
      "metadata": {
        "id": "0SuCYk9eqlq6"
      },
      "source": [
        "## Files\n",
        "#### 2. Create a file in the current working directory called `contacts.txt` by running the cell below:"
      ]
    },
    {
      "cell_type": "code",
      "execution_count": null,
      "metadata": {
        "colab": {
          "base_uri": "https://localhost:8080/"
        },
        "id": "lxMO-NGkqlq6",
        "outputId": "98554892-601e-4759-9637-1fca8192d027"
      },
      "outputs": [
        {
          "output_type": "stream",
          "name": "stdout",
          "text": [
            "Overwriting contacts.txt\n"
          ]
        }
      ],
      "source": [
        "%%writefile contacts.txt\n",
        "First_Name Last_Name, Title, Extension, Email"
      ]
    },
    {
      "cell_type": "markdown",
      "metadata": {
        "id": "vUzNsdFPqlq7"
      },
      "source": [
        "#### 3. Open the file and use .read() to save the contents of the file to a string called `fields`.  Make sure the file is closed at the end."
      ]
    },
    {
      "cell_type": "code",
      "execution_count": null,
      "metadata": {
        "colab": {
          "base_uri": "https://localhost:8080/",
          "height": 36
        },
        "id": "0eLlskb7qlq7",
        "outputId": "20de49e2-11d1-4a41-ad9c-1dd299635107"
      },
      "outputs": [
        {
          "output_type": "execute_result",
          "data": {
            "text/plain": [
              "'First_Name Last_Name, Title, Extension, Email'"
            ],
            "application/vnd.google.colaboratory.intrinsic+json": {
              "type": "string"
            }
          },
          "metadata": {},
          "execution_count": 119
        }
      ],
      "source": [
        "# Write your code here:\n",
        "with open('contacts.txt') as c:\n",
        "    fields = c.read()\n",
        "# Run fields to see the contents of contacts.txt:\n",
        "fields"
      ]
    },
    {
      "cell_type": "markdown",
      "metadata": {
        "id": "6cSTVVg2qlq8"
      },
      "source": [
        "## Working with PDF Files\n",
        "#### 4. Use PyPDF2 to open the file `Business_Proposal.pdf`. Extract the text of page 2."
      ]
    },
    {
      "cell_type": "code",
      "execution_count": null,
      "metadata": {
        "colab": {
          "base_uri": "https://localhost:8080/"
        },
        "id": "XSrWr4RKqlq9",
        "outputId": "c97aa967-09c0-4a71-883d-1a830313d61e"
      },
      "outputs": [
        {
          "output_type": "stream",
          "name": "stdout",
          "text": [
            "2\n",
            "AUTHORS:\n",
            "\n",
            "AmyBaker,FinanceChair,x345,abaker@ourcompany.com\n",
            "\n",
            "ChrisDonaldson,AccountingDir.,x621,cdonaldson@ourcompany.com\n",
            "\n",
            "ErinFreeman,Sr.VP,x879,efreeman@ourcompany.com\n",
            "\n",
            "\n"
          ]
        }
      ],
      "source": [
        "# Perform import\n",
        "import PyPDF2\n",
        "\n",
        "# Open the file as a binary object\n",
        "pdfFile=open(\"/content/Business_Proposal.pdf\", 'rb')\n",
        "\n",
        "# Use PyPDF2 to read the text of the file\n",
        "pdfreader=PyPDF2.PdfFileReader(pdfFile)\n",
        "print(pdfreader.numPages)\n",
        "\n",
        "# Get the text from page 2 (CHALLENGE: Do this in one step!)\n",
        "page_two_text = pdfreader.getPage(1).extractText()\n",
        "page_two_text=page_two_text.replace(' ','')\n",
        "\n",
        "\n",
        "# Close the file\n",
        "pdfFile.close()\n",
        "\n",
        "# Print the contents of page_two_text\n",
        "print(page_two_text)"
      ]
    },
    {
      "cell_type": "markdown",
      "metadata": {
        "id": "_MjfD_-Xqlq-"
      },
      "source": [
        "#### 5. Open the file `contacts.txt` in append mode. Add the text of page 2 from above to `contacts.txt`.\n",
        "\n",
        "#### CHALLENGE: See if you can remove the word \"AUTHORS:\""
      ]
    },
    {
      "cell_type": "code",
      "execution_count": null,
      "metadata": {
        "colab": {
          "base_uri": "https://localhost:8080/"
        },
        "id": "McNv1Kvnqlq_",
        "outputId": "e174e03e-deda-41fe-93ac-504d289cd90e"
      },
      "outputs": [
        {
          "output_type": "stream",
          "name": "stdout",
          "text": [
            "First_Name Last_Name, Title, Extension, EmailAUTHORS:\n",
            "\n",
            "AmyBaker,FinanceChair,x345,abaker@ourcompany.com\n",
            "\n",
            "ChrisDonaldson,AccountingDir.,x621,cdonaldson@ourcompany.com\n",
            "\n",
            "ErinFreeman,Sr.VP,x879,efreeman@ourcompany.com\n",
            "\n",
            "\n"
          ]
        }
      ],
      "source": [
        "# Simple Solution:\n",
        "with open('contacts.txt','a+') as c:\n",
        "    c.write(page_two_text)\n",
        "    c.seek(0)\n",
        "    print(c.read())"
      ]
    },
    {
      "cell_type": "code",
      "execution_count": null,
      "metadata": {
        "colab": {
          "base_uri": "https://localhost:8080/"
        },
        "id": "1DHgFs8Wqlq_",
        "outputId": "192304f2-7553-4877-9183-cd8294c730a4"
      },
      "outputs": [
        {
          "output_type": "stream",
          "name": "stdout",
          "text": [
            "First_Name Last_Name, Title, Extension, EmailAUTHORS:\n",
            "\n",
            "AmyBaker,FinanceChair,x345,abaker@ourcompany.com\n",
            "\n",
            "ChrisDonaldson,AccountingDir.,x621,cdonaldson@ourcompany.com\n",
            "\n",
            "ErinFreeman,Sr.VP,x879,efreeman@ourcompany.com\n",
            "\n",
            "\n",
            "\n",
            "AmyBaker,FinanceChair,x345,abaker@ourcompany.com\n",
            "\n",
            "ChrisDonaldson,AccountingDir.,x621,cdonaldson@ourcompany.com\n",
            "\n",
            "ErinFreeman,Sr.VP,x879,efreeman@ourcompany.com\n",
            "\n",
            "\n"
          ]
        }
      ],
      "source": [
        "# CHALLENGE Solution (re-run the %%writefile cell above to obtain an unmodified contacts.txt file):\n",
        "with open('contacts.txt','a+') as c:\n",
        "    c.write(page_two_text[8:])\n",
        "    c.seek(0)\n",
        "    print(c.read())\n",
        "\n",
        "\n"
      ]
    },
    {
      "cell_type": "markdown",
      "metadata": {
        "id": "E0P-1MoqqlrA"
      },
      "source": [
        "## Regular Expressions\n",
        "#### 6. Using the `page_two_text` variable created above, extract any email addresses that were contained in the file `Business_Proposal.pdf`."
      ]
    },
    {
      "cell_type": "code",
      "execution_count": null,
      "metadata": {
        "colab": {
          "base_uri": "https://localhost:8080/"
        },
        "id": "DLO_KrWmqlrA",
        "outputId": "63afe5d3-cdd1-4d92-dce4-1cff571aa88b"
      },
      "outputs": [
        {
          "output_type": "execute_result",
          "data": {
            "text/plain": [
              "['abaker@ourcompany.com',\n",
              " 'cdonaldson@ourcompany.com',\n",
              " 'efreeman@ourcompany.com']"
            ]
          },
          "metadata": {},
          "execution_count": 123
        }
      ],
      "source": [
        "import re\n",
        "\n",
        "# Enter your regex pattern here. This may take several tries!\n",
        "pattern = r'\\w+@\\w+.\\w{3}'\n",
        "\n",
        "re.findall(pattern, page_two_text)\n"
      ]
    },
    {
      "cell_type": "markdown",
      "metadata": {
        "id": "sqFu-WfqqlrA"
      },
      "source": [
        "### Great job!"
      ]
    }
  ],
  "metadata": {
    "kernelspec": {
      "display_name": "Python 3",
      "language": "python",
      "name": "python3"
    },
    "language_info": {
      "codemirror_mode": {
        "name": "ipython",
        "version": 3
      },
      "file_extension": ".py",
      "mimetype": "text/x-python",
      "name": "python",
      "nbconvert_exporter": "python",
      "pygments_lexer": "ipython3",
      "version": "3.6.10"
    },
    "colab": {
      "name": "Python_Text_Basics.ipynb",
      "provenance": [],
      "include_colab_link": true
    }
  },
  "nbformat": 4,
  "nbformat_minor": 0
}