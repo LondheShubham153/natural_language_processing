{
  "nbformat": 4,
  "nbformat_minor": 0,
  "metadata": {
    "colab": {
      "name": "email_spam_classification.ipynb",
      "provenance": [],
      "collapsed_sections": [],
      "authorship_tag": "ABX9TyOw9v+q57yLuknWStl6TyD9",
      "include_colab_link": true
    },
    "kernelspec": {
      "name": "python3",
      "display_name": "Python 3"
    },
    "language_info": {
      "name": "python"
    }
  },
  "cells": [
    {
      "cell_type": "markdown",
      "metadata": {
        "id": "view-in-github",
        "colab_type": "text"
      },
      "source": [
        "<a href=\"https://colab.research.google.com/github/LondheShubham153/natural_language_processing/blob/main/email_spam_classification.ipynb\" target=\"_parent\"><img src=\"https://colab.research.google.com/assets/colab-badge.svg\" alt=\"Open In Colab\"/></a>"
      ]
    },
    {
      "cell_type": "markdown",
      "source": [
        "## Packages and Imports\n",
        "\n",
        "Supressed Warnings"
      ],
      "metadata": {
        "id": "uqy0lGr2Gm0y"
      }
    },
    {
      "cell_type": "code",
      "source": [
        "def warn(*args, **kwargs):\n",
        "    pass\n",
        "import warnings\n",
        "warnings.warn = warn"
      ],
      "metadata": {
        "id": "OKXZ3cGppcoS"
      },
      "execution_count": null,
      "outputs": []
    },
    {
      "cell_type": "code",
      "execution_count": null,
      "metadata": {
        "id": "7LXpFR29Fx2y"
      },
      "outputs": [],
      "source": [
        "import numpy as np\n",
        "import pandas as pd\n",
        "import nltk\n",
        "from nltk.corpus import stopwords\n",
        "import string\n",
        "nltk.download('stopwords')\n",
        "\n",
        "from sklearn.feature_extraction.text import CountVectorizer,TfidfTransformer\n",
        "from sklearn.model_selection import train_test_split\n",
        "from sklearn.linear_model import LogisticRegression\n",
        "from sklearn.svm import SVC\n",
        "from sklearn.tree import DecisionTreeClassifier\n",
        "from sklearn.neighbors import KNeighborsClassifier\n",
        "from sklearn.linear_model import LogisticRegression\n",
        "\n",
        "import seaborn as sns"
      ]
    },
    {
      "cell_type": "markdown",
      "source": [
        "## Reading Data"
      ],
      "metadata": {
        "id": "YM0TyzoVGsHT"
      }
    },
    {
      "cell_type": "code",
      "source": [
        "data = pd.read_csv('SMSSpamCollection', sep=\"\\t\", names=['label','message'])"
      ],
      "metadata": {
        "id": "0h8aDdCMGKfj"
      },
      "execution_count": null,
      "outputs": []
    },
    {
      "cell_type": "code",
      "source": [
        "data.info()"
      ],
      "metadata": {
        "colab": {
          "base_uri": "https://localhost:8080/"
        },
        "id": "CswuYwLdGNDE",
        "outputId": "932ac82e-f20b-4e2f-92dc-9eaefb8c9f7b"
      },
      "execution_count": null,
      "outputs": [
        {
          "output_type": "stream",
          "name": "stdout",
          "text": [
            "<class 'pandas.core.frame.DataFrame'>\n",
            "RangeIndex: 5572 entries, 0 to 5571\n",
            "Data columns (total 2 columns):\n",
            " #   Column   Non-Null Count  Dtype \n",
            "---  ------   --------------  ----- \n",
            " 0   label    5572 non-null   object\n",
            " 1   message  5572 non-null   object\n",
            "dtypes: object(2)\n",
            "memory usage: 87.2+ KB\n"
          ]
        }
      ]
    },
    {
      "cell_type": "code",
      "source": [
        "data.groupby('label').count().plot.bar()"
      ],
      "metadata": {
        "colab": {
          "base_uri": "https://localhost:8080/",
          "height": 315
        },
        "id": "SlQLBikEkV7d",
        "outputId": "c1dd14a5-81fd-46d5-d47e-8936291bc173"
      },
      "execution_count": null,
      "outputs": [
        {
          "output_type": "execute_result",
          "data": {
            "text/plain": [
              "<matplotlib.axes._subplots.AxesSubplot at 0x7fcbe068dbd0>"
            ]
          },
          "metadata": {},
          "execution_count": 74
        },
        {
          "output_type": "display_data",
          "data": {
            "image/png": "[encoded data removed]",
            "text/plain": [
              "<Figure size 432x288 with 1 Axes>"
            ]
          },
          "metadata": {
            "needs_background": "light"
          }
        }
      ]
    },
    {
      "cell_type": "markdown",
      "source": [
        "## Pre-processing Data"
      ],
      "metadata": {
        "id": "809MViuNGvSL"
      }
    },
    {
      "cell_type": "code",
      "source": [
        "class PreProcessor:\n",
        "\n",
        "  def remove_punctuation(self, record):\n",
        "\n",
        "    cleaned_str = [char for char in record if char not in string.punctuation]\n",
        "    return ''.join(cleaned_str)\n",
        "  \n",
        "  def normalize_sentences(self, sentences):\n",
        "    words = sentences.split(\" \")\n",
        "    return [word.lower() for word in words]\n",
        "\n",
        "  def remove_stopwords(self,words):\n",
        "    return [word for word in words if word not in stopwords.words(\"english\")]\n",
        "\n",
        "  def process(self, record):\n",
        "      # Remove Punctuation\n",
        "      sentences = self.remove_punctuation(record)\n",
        "      \n",
        "      # Normalize\n",
        "      norm_words = self.normalize_sentences(sentences)\n",
        "      \n",
        "      # Remove Stopwords\n",
        "      final_words = self.remove_stopwords(norm_words)\n",
        "      \n",
        "      return final_words"
      ],
      "metadata": {
        "id": "9HhAVqjXGgX-"
      },
      "execution_count": null,
      "outputs": []
    },
    {
      "cell_type": "code",
      "source": [
        "processor = PreProcessor()\n",
        "processor.process(\"Hey! Welcome to Train With Shubham channel! You will be learning a lot of cool stuff.\")"
      ],
      "metadata": {
        "colab": {
          "base_uri": "https://localhost:8080/"
        },
        "id": "0E_3yc3-G0R9",
        "outputId": "d15d4bc5-4113-47ae-df71-69679e662447"
      },
      "execution_count": null,
      "outputs": [
        {
          "output_type": "execute_result",
          "data": {
            "text/plain": [
              "['hey',\n",
              " 'welcome',\n",
              " 'train',\n",
              " 'shubham',\n",
              " 'channel',\n",
              " 'learning',\n",
              " 'lot',\n",
              " 'cool',\n",
              " 'stuff']"
            ]
          },
          "metadata": {},
          "execution_count": 76
        }
      ]
    },
    {
      "cell_type": "markdown",
      "source": [
        "## Extract features and labels\n"
      ],
      "metadata": {
        "id": "iE_Q1WgWJJYR"
      }
    },
    {
      "cell_type": "code",
      "source": [
        "# Extract features and labels\n",
        "\n",
        "features = data.iloc[:,[1]].values\n",
        "label = data.iloc[:,0].values"
      ],
      "metadata": {
        "id": "u7ELr9ElIlQq"
      },
      "execution_count": null,
      "outputs": []
    },
    {
      "cell_type": "markdown",
      "source": [
        "## Creating Bag of Words"
      ],
      "metadata": {
        "id": "gojF7t8rJSkf"
      }
    },
    {
      "cell_type": "code",
      "source": [
        "#Initialize Count Vectorizer with our custom preprocessing function\n",
        "word_vector = CountVectorizer(analyzer=processor.process)\n",
        "#Build Vocab\n",
        "final_word_vocab = word_vector.fit(features)"
      ],
      "metadata": {
        "id": "m3MIFx_DJdNu"
      },
      "execution_count": null,
      "outputs": []
    },
    {
      "cell_type": "code",
      "source": [
        "bag_of_words = final_word_vocab.transform(features)\n",
        "bag_of_words"
      ],
      "metadata": {
        "colab": {
          "base_uri": "https://localhost:8080/"
        },
        "id": "whAgSlESJ2Dy",
        "outputId": "334cc449-41ed-463b-e885-fc973d1551ea"
      },
      "execution_count": null,
      "outputs": [
        {
          "output_type": "execute_result",
          "data": {
            "text/plain": [
              "<5572x13431 sparse matrix of type '<class 'numpy.int64'>'\n",
              "\twith 53461 stored elements in Compressed Sparse Row format>"
            ]
          },
          "metadata": {},
          "execution_count": 79
        }
      ]
    },
    {
      "cell_type": "markdown",
      "source": [
        "## Applying TFIDF on BOW"
      ],
      "metadata": {
        "id": "TbLq5xCDKMj5"
      }
    },
    {
      "cell_type": "code",
      "source": [
        "#Calculating TF and IDF\n",
        "\n",
        "tfIdf_obj = TfidfTransformer().fit(bag_of_words)\n",
        "\n",
        "#Transform data (Calc Weights )\n",
        "final_feature = tfIdf_obj.transform(bag_of_words)"
      ],
      "metadata": {
        "id": "VPpzYx03KMHh"
      },
      "execution_count": null,
      "outputs": []
    },
    {
      "cell_type": "markdown",
      "source": [
        "## Test-Train Split and Model building"
      ],
      "metadata": {
        "id": "0JcNrvpMKkuf"
      }
    },
    {
      "cell_type": "code",
      "source": [
        "class ModelBuilder:\n",
        "  def __init__(self):\n",
        "    self.names = [\n",
        "    \"Nearest Neighbors\",\n",
        "    \"Linear SVM\",\n",
        "    \"Decision Tree\",\n",
        "    \"Logistic_Regression\"]\n",
        "\n",
        "    self.classifiers = [\n",
        "    KNeighborsClassifier(3),\n",
        "    SVC(kernel=\"linear\", C=0.025),\n",
        "    DecisionTreeClassifier(max_depth=5),\n",
        "    LogisticRegression()]\n",
        "\n",
        "\n",
        "  def split_test_train(self, features,labels,size,state):\n",
        "    X_train,X_test,y_train,y_test = train_test_split(features,\n",
        "                                                label,\n",
        "                                                test_size=size,\n",
        "                                                random_state=state)\n",
        "    return (X_train,X_test,y_train,y_test)\n",
        "\n",
        "  def choose_best_model(self,X_test,X_train,y_test,y_train):\n",
        "    scores = []\n",
        "    best_model = self.classifiers[0]\n",
        "    best_score = 0\n",
        "    for name, clf in zip(self.names,self.classifiers):\n",
        "      clf.fit(X_train,y_train)\n",
        "      score = clf.score(X_test,y_test)\n",
        "      scores.append(score)\n",
        "      if score > best_score:\n",
        "        best_model = clf\n",
        "        best_score = score\n",
        "    model_scores_df = pd.DataFrame()\n",
        "    model_scores_df['Algorithm'] = self.names\n",
        "    model_scores_df['Score'] = scores\n",
        "\n",
        "    cm = sns.light_palette('orange',as_cmap=True)\n",
        "    model_scores = model_scores_df.style.background_gradient(cmap=cm)\n",
        "    print(f\"The model that will perform well with {best_model}\")\n",
        "    return model_scores, best_model\n",
        "  "
      ],
      "metadata": {
        "id": "dPzqrPCiLOr3"
      },
      "execution_count": null,
      "outputs": []
    },
    {
      "cell_type": "code",
      "source": [
        "models = ModelBuilder()\n",
        "X_test,X_train,y_test,y_train = models.split_test_train(final_feature,label,0.2,6)\n",
        "scores,model = models.choose_best_model(X_test,X_train,y_test,y_train)\n",
        "model.fit(X_train,y_train)\n",
        "scores"
      ],
      "metadata": {
        "colab": {
          "base_uri": "https://localhost:8080/",
          "height": 192
        },
        "id": "ZDwNn-V8LVwc",
        "outputId": "db7f1c84-1387-409a-9b7a-ed5ab949cc8e"
      },
      "execution_count": null,
      "outputs": [
        {
          "output_type": "stream",
          "name": "stdout",
          "text": [
            "The model that will perform well with KNeighborsClassifier(n_neighbors=3)\n"
          ]
        },
        {
          "output_type": "execute_result",
          "data": {
            "text/html": [
              "<style type=\"text/css\">\n",
              "#T_70b40_row0_col1 {\n",
              "  background-color: #ffa500;\n",
              "  color: #000000;\n",
              "}\n",
              "#T_70b40_row1_col1 {\n",
              "  background-color: #f3f0ee;\n",
              "  color: #000000;\n",
              "}\n",
              "#T_70b40_row2_col1 {\n",
              "  background-color: #fdb229;\n",
              "  color: #000000;\n",
              "}\n",
              "#T_70b40_row3_col1 {\n",
              "  background-color: #f4e8d4;\n",
              "  color: #000000;\n",
              "}\n",
              "</style>\n",
              "<table id=\"T_70b40_\" class=\"dataframe\">\n",
              "  <thead>\n",
              "    <tr>\n",
              "      <th class=\"blank level0\" >&nbsp;</th>\n",
              "      <th class=\"col_heading level0 col0\" >Algorithm</th>\n",
              "      <th class=\"col_heading level0 col1\" >Score</th>\n",
              "    </tr>\n",
              "  </thead>\n",
              "  <tbody>\n",
              "    <tr>\n",
              "      <th id=\"T_70b40_level0_row0\" class=\"row_heading level0 row0\" >0</th>\n",
              "      <td id=\"T_70b40_row0_col0\" class=\"data row0 col0\" >Nearest Neighbors</td>\n",
              "      <td id=\"T_70b40_row0_col1\" class=\"data row0 col1\" >0.943235</td>\n",
              "    </tr>\n",
              "    <tr>\n",
              "      <th id=\"T_70b40_level0_row1\" class=\"row_heading level0 row1\" >1</th>\n",
              "      <td id=\"T_70b40_row1_col0\" class=\"data row1 col0\" >Linear SVM</td>\n",
              "      <td id=\"T_70b40_row1_col1\" class=\"data row1 col1\" >0.862688</td>\n",
              "    </tr>\n",
              "    <tr>\n",
              "      <th id=\"T_70b40_level0_row2\" class=\"row_heading level0 row2\" >2</th>\n",
              "      <td id=\"T_70b40_row2_col0\" class=\"data row2 col0\" >Decision Tree</td>\n",
              "      <td id=\"T_70b40_row2_col1\" class=\"data row2 col1\" >0.929100</td>\n",
              "    </tr>\n",
              "    <tr>\n",
              "      <th id=\"T_70b40_level0_row3\" class=\"row_heading level0 row3\" >3</th>\n",
              "      <td id=\"T_70b40_row3_col0\" class=\"data row3 col0\" >Logistic_Regression</td>\n",
              "      <td id=\"T_70b40_row3_col1\" class=\"data row3 col1\" >0.871663</td>\n",
              "    </tr>\n",
              "  </tbody>\n",
              "</table>\n"
            ],
            "text/plain": [
              "<pandas.io.formats.style.Styler at 0x7fcbe068dfd0>"
            ]
          },
          "metadata": {},
          "execution_count": 82
        }
      ]
    },
    {
      "cell_type": "markdown",
      "source": [
        "## Spam Checker"
      ],
      "metadata": {
        "id": "V2cqunGWjTN1"
      }
    },
    {
      "cell_type": "code",
      "source": [
        "class SpamChecker:\n",
        "\n",
        "  def predict(self,model,sms_input):\n",
        "    \"\"\"\n",
        "    Pre Processing\n",
        "    BOW transformation\n",
        "    TFIDF transformation\n",
        "\n",
        "    \"\"\"\n",
        "    pre_processed_features = processor.process(sms_input)\n",
        "    bow_feature = final_word_vocab.transform(pre_processed_features)\n",
        "    tfIdf_feature = tfIdf_obj.transform(bow_feature)\n",
        "    return max(set(model.predict(tfIdf_feature)), key = list(model.predict(tfIdf_feature)).count)\n",
        "    "
      ],
      "metadata": {
        "id": "BvYnH4pBSUqL"
      },
      "execution_count": null,
      "outputs": []
    },
    {
      "cell_type": "code",
      "source": [
        "checker = SpamChecker()\n",
        "checker.predict(model,\"congratulations !! you have won a lottery, in order to get the prize amount click this link and be a millionare\")"
      ],
      "metadata": {
        "colab": {
          "base_uri": "https://localhost:8080/",
          "height": 35
        },
        "id": "99bLUn8rTHyR",
        "outputId": "a74f5cd2-4488-4bb3-a45c-c4fd586b0719"
      },
      "execution_count": null,
      "outputs": [
        {
          "output_type": "execute_result",
          "data": {
            "application/vnd.google.colaboratory.intrinsic+json": {
              "type": "string"
            },
            "text/plain": [
              "'spam'"
            ]
          },
          "metadata": {},
          "execution_count": 84
        }
      ]
    },
    {
      "cell_type": "code",
      "source": [
        "checker.predict(model,\"Hey, how are you\")"
      ],
      "metadata": {
        "colab": {
          "base_uri": "https://localhost:8080/",
          "height": 35
        },
        "id": "vRd7FMcgjXvc",
        "outputId": "a85665ca-c4be-45c9-b59b-8def6e23fabc"
      },
      "execution_count": null,
      "outputs": [
        {
          "output_type": "execute_result",
          "data": {
            "application/vnd.google.colaboratory.intrinsic+json": {
              "type": "string"
            },
            "text/plain": [
              "'ham'"
            ]
          },
          "metadata": {},
          "execution_count": 85
        }
      ]
    },
    {
      "cell_type": "markdown",
      "source": [
        "## Conclusion"
      ],
      "metadata": {
        "id": "gMTFWPCuhwAC"
      }
    },
    {
      "cell_type": "markdown",
      "source": [
        "Dataset:\n",
        "\n",
        "The dateset having 5572 records had an imbalance of \"spam\" and \"ham\" labels, with majority SMS records for \"ham\".\n",
        "\n",
        "\n"
      ],
      "metadata": {
        "id": "tlGLnPqrh01H"
      }
    },
    {
      "cell_type": "markdown",
      "source": [
        "TF-IDF:\n",
        "\n",
        "“Term Frequency — Inverse Document Frequency”. \n",
        "\n",
        "This is a technique to quantify words in a set of documents. We generally compute a score for each word to signify its importance in the document and corpus. \n",
        "\n",
        "We used this method for Text Mining in the SMS dataset and it helped in quantifying the different words from the bag of words."
      ],
      "metadata": {
        "id": "4s18LfTqkmM5"
      }
    },
    {
      "cell_type": "markdown",
      "source": [
        "Output:\n",
        "\n",
        "The output of the predict function gave good accuracy with random SMS messages, it didn't perform well when we gave small length spam messages.\n",
        "Adding more training data shoulp help."
      ],
      "metadata": {
        "id": "3mz6xMPPnR9C"
      }
    }
  ]
}