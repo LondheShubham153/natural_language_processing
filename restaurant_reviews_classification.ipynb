{
  "nbformat": 4,
  "nbformat_minor": 0,
  "metadata": {
    "colab": {
      "name": "restaurant_reviews_classification.ipynb",
      "provenance": [],
      "collapsed_sections": [],
      "authorship_tag": "ABX9TyOVLOQKr5GUIYRLpVJWmIBG",
      "include_colab_link": true
    },
    "kernelspec": {
      "name": "python3",
      "display_name": "Python 3"
    },
    "language_info": {
      "name": "python"
    }
  },
  "cells": [
    {
      "cell_type": "markdown",
      "metadata": {
        "id": "view-in-github",
        "colab_type": "text"
      },
      "source": [
        "<a href=\"https://colab.research.google.com/github/LondheShubham153/natural_language_processing/blob/main/restaurant_reviews_classification.ipynb\" target=\"_parent\"><img src=\"https://colab.research.google.com/assets/colab-badge.svg\" alt=\"Open In Colab\"/></a>"
      ]
    },
    {
      "cell_type": "markdown",
      "source": [
        "## Packages and Imports \n",
        "\n",
        "Supressed warnings"
      ],
      "metadata": {
        "id": "UGMjJvNVoKO1"
      }
    },
    {
      "cell_type": "code",
      "source": [
        "def warn(*args, **kwargs):\n",
        "    pass\n",
        "import warnings\n",
        "warnings.warn = warn"
      ],
      "metadata": {
        "id": "Y3ASSDckpVCG"
      },
      "execution_count": null,
      "outputs": []
    },
    {
      "cell_type": "code",
      "execution_count": null,
      "metadata": {
        "colab": {
          "base_uri": "https://localhost:8080/"
        },
        "id": "aK19U35rVhUz",
        "outputId": "ee9108e4-0513-48c7-c709-77dbd163f9e0"
      },
      "outputs": [
        {
          "output_type": "stream",
          "name": "stdout",
          "text": [
            "[nltk_data] Downloading package stopwords to /root/nltk_data...\n",
            "[nltk_data]   Package stopwords is already up-to-date!\n"
          ]
        }
      ],
      "source": [
        "import numpy as np\n",
        "import pandas as pd\n",
        "import nltk\n",
        "from nltk.corpus import stopwords\n",
        "import string\n",
        "nltk.download('stopwords')\n",
        "\n",
        "from sklearn.feature_extraction.text import CountVectorizer,TfidfTransformer\n",
        "from sklearn.neighbors import KNeighborsClassifier\n",
        "from sklearn.svm import SVC\n",
        "from sklearn.ensemble import GradientBoostingClassifier\n",
        "from sklearn.tree import DecisionTreeClassifier\n",
        "from sklearn.linear_model import LogisticRegression\n",
        "from sklearn.model_selection import train_test_split\n",
        "\n",
        "import seaborn as sns"
      ]
    },
    {
      "cell_type": "markdown",
      "source": [
        "## Reading Data"
      ],
      "metadata": {
        "id": "IF4tpMvloSCB"
      }
    },
    {
      "cell_type": "code",
      "source": [
        "data = pd.read_csv('Restaurant_Reviews.tsv', sep=\"\\t\")\n",
        "data.info()"
      ],
      "metadata": {
        "colab": {
          "base_uri": "https://localhost:8080/"
        },
        "id": "2YTBUgPuWfxH",
        "outputId": "4efa7647-31e3-434c-948b-520a94739271"
      },
      "execution_count": null,
      "outputs": [
        {
          "output_type": "stream",
          "name": "stdout",
          "text": [
            "<class 'pandas.core.frame.DataFrame'>\n",
            "RangeIndex: 1000 entries, 0 to 999\n",
            "Data columns (total 2 columns):\n",
            " #   Column  Non-Null Count  Dtype \n",
            "---  ------  --------------  ----- \n",
            " 0   Review  1000 non-null   object\n",
            " 1   Liked   1000 non-null   int64 \n",
            "dtypes: int64(1), object(1)\n",
            "memory usage: 15.8+ KB\n"
          ]
        }
      ]
    },
    {
      "cell_type": "code",
      "source": [
        "data.groupby('Liked').count().plot.bar()"
      ],
      "metadata": {
        "colab": {
          "base_uri": "https://localhost:8080/",
          "height": 293
        },
        "id": "MmaFGvisXMBf",
        "outputId": "12314bdc-c450-449e-f4e2-9ab586d7c187"
      },
      "execution_count": null,
      "outputs": [
        {
          "output_type": "execute_result",
          "data": {
            "text/plain": [
              "<matplotlib.axes._subplots.AxesSubplot at 0x7fc1478a2e50>"
            ]
          },
          "metadata": {},
          "execution_count": 77
        },
        {
          "output_type": "display_data",
          "data": {
            "image/png": "[encoded data removed]",
            "text/plain": [
              "<Figure size 432x288 with 1 Axes>"
            ]
          },
          "metadata": {
            "needs_background": "light"
          }
        }
      ]
    },
    {
      "cell_type": "markdown",
      "source": [
        "## Text Pre Processing and NLP techniques"
      ],
      "metadata": {
        "id": "Hx7NsNTVo9uZ"
      }
    },
    {
      "cell_type": "code",
      "source": [
        "class PreProcessor:\n",
        "\n",
        "  def remove_punctuation(self, record):\n",
        "\n",
        "    cleaned_str = [char for char in record if char not in string.punctuation]\n",
        "    return ''.join(cleaned_str)\n",
        "  \n",
        "  def normalize_sentences(self, sentences):\n",
        "    words = sentences.split(\" \")\n",
        "    return [word.lower() for word in words]\n",
        "\n",
        "  def remove_stopwords(self,words):\n",
        "    return [word for word in words if word not in stopwords.words(\"english\")]\n",
        "\n",
        "  def process(self, record):\n",
        "      # Remove Punctuation\n",
        "      sentences = self.remove_punctuation(record)\n",
        "      \n",
        "      # Normalize\n",
        "      norm_words = self.normalize_sentences(sentences)\n",
        "      \n",
        "      # Remove Stopwords\n",
        "      final_words = self.remove_stopwords(norm_words)\n",
        "      \n",
        "      return final_words"
      ],
      "metadata": {
        "id": "KOigvyvgX0r4"
      },
      "execution_count": null,
      "outputs": []
    },
    {
      "cell_type": "code",
      "source": [
        "# Extract features and labels\n",
        "\n",
        "features = data.iloc[:,0].values\n",
        "label = data.iloc[:,[1]].values"
      ],
      "metadata": {
        "id": "o1uOs48_X5Z_"
      },
      "execution_count": null,
      "outputs": []
    },
    {
      "cell_type": "code",
      "source": [
        "processor = PreProcessor()\n",
        "\n",
        "word_vector = CountVectorizer(analyzer=processor.process)\n",
        "# Build Vocab\n",
        "final_word_vocab = word_vector.fit(features)\n",
        "# Build Bag of Words\n",
        "bag_of_words = final_word_vocab.transform(features)"
      ],
      "metadata": {
        "id": "6J50s_XYYIH1"
      },
      "execution_count": null,
      "outputs": []
    },
    {
      "cell_type": "code",
      "source": [
        "# Calculating TF and IDF\n",
        "tfIdf_obj = TfidfTransformer().fit(bag_of_words)\n",
        "\n",
        "# Transform data (Calc Weights )\n",
        "final_feature = tfIdf_obj.transform(bag_of_words)"
      ],
      "metadata": {
        "id": "RUFj5HMAYb5j"
      },
      "execution_count": null,
      "outputs": []
    },
    {
      "cell_type": "markdown",
      "source": [
        "## Model Selection"
      ],
      "metadata": {
        "id": "5DIctYWyo7gN"
      }
    },
    {
      "cell_type": "code",
      "source": [
        "class ModelBuilder:\n",
        "  def __init__(self):\n",
        "    self.names = [\n",
        "    \"Nearest Neighbors\",\n",
        "    \"Linear SVM\",\n",
        "    \"Decision Tree\",\n",
        "    \"Logistic_Regression\"]\n",
        "\n",
        "    self.classifiers = [\n",
        "    KNeighborsClassifier(3),\n",
        "    SVC(kernel=\"linear\", C=0.025),\n",
        "    DecisionTreeClassifier(max_depth=5),\n",
        "    LogisticRegression()]\n",
        "\n",
        "\n",
        "  def split_test_train(self, features,labels,size,state):\n",
        "    X_train,X_test,y_train,y_test = train_test_split(features,\n",
        "                                                label,\n",
        "                                                test_size=size,\n",
        "                                                random_state=state)\n",
        "    return (X_train,X_test,y_train,y_test)\n",
        "\n",
        "  def choose_best_model(self,X_test,X_train,y_test,y_train):\n",
        "    scores = []\n",
        "    best_model = self.classifiers[0]\n",
        "    best_score = 0\n",
        "    for name, clf in zip(self.names,self.classifiers):\n",
        "      clf.fit(X_train,y_train)\n",
        "      score = clf.score(X_test,y_test)\n",
        "      scores.append(score)\n",
        "      if score > best_score:\n",
        "        best_model = clf\n",
        "        best_score = score\n",
        "    model_scores_df = pd.DataFrame()\n",
        "    model_scores_df['Algorithm'] = self.names\n",
        "    model_scores_df['Score'] = scores\n",
        "\n",
        "    cm = sns.light_palette('orange',as_cmap=True)\n",
        "    model_scores = model_scores_df.style.background_gradient(cmap=cm)\n",
        "    print(f\"The model that will perform well with {best_model}\")\n",
        "    return model_scores, best_model\n",
        "  \n"
      ],
      "metadata": {
        "id": "LmncGQe5Yh7P"
      },
      "execution_count": null,
      "outputs": []
    },
    {
      "cell_type": "code",
      "source": [
        "models = ModelBuilder()\n",
        "X_test,X_train,y_test,y_train = models.split_test_train(final_feature,label,0.2,6)\n",
        "scores,model = models.choose_best_model(X_test,X_train,y_test,y_train)\n",
        "model.fit(X_train,y_train)\n",
        "scores"
      ],
      "metadata": {
        "colab": {
          "base_uri": "https://localhost:8080/",
          "height": 192
        },
        "id": "MtAevKUNYuHW",
        "outputId": "9573b879-b5fe-4930-cd59-5dadafaa526c"
      },
      "execution_count": null,
      "outputs": [
        {
          "output_type": "stream",
          "name": "stdout",
          "text": [
            "The model that will perform well LogisticRegression()\n"
          ]
        },
        {
          "output_type": "execute_result",
          "data": {
            "text/html": [
              "<style type=\"text/css\">\n",
              "#T_87c36_row0_col1 {\n",
              "  background-color: #feac17;\n",
              "  color: #000000;\n",
              "}\n",
              "#T_87c36_row1_col1 {\n",
              "  background-color: #f3f0ee;\n",
              "  color: #000000;\n",
              "}\n",
              "#T_87c36_row2_col1 {\n",
              "  background-color: #fac360;\n",
              "  color: #000000;\n",
              "}\n",
              "#T_87c36_row3_col1 {\n",
              "  background-color: #ffa500;\n",
              "  color: #000000;\n",
              "}\n",
              "</style>\n",
              "<table id=\"T_87c36_\" class=\"dataframe\">\n",
              "  <thead>\n",
              "    <tr>\n",
              "      <th class=\"blank level0\" >&nbsp;</th>\n",
              "      <th class=\"col_heading level0 col0\" >Algorithm</th>\n",
              "      <th class=\"col_heading level0 col1\" >Score</th>\n",
              "    </tr>\n",
              "  </thead>\n",
              "  <tbody>\n",
              "    <tr>\n",
              "      <th id=\"T_87c36_level0_row0\" class=\"row_heading level0 row0\" >0</th>\n",
              "      <td id=\"T_87c36_row0_col0\" class=\"data row0 col0\" >Nearest Neighbors</td>\n",
              "      <td id=\"T_87c36_row0_col1\" class=\"data row0 col1\" >0.706250</td>\n",
              "    </tr>\n",
              "    <tr>\n",
              "      <th id=\"T_87c36_level0_row1\" class=\"row_heading level0 row1\" >1</th>\n",
              "      <td id=\"T_87c36_row1_col0\" class=\"data row1 col0\" >Linear SVM</td>\n",
              "      <td id=\"T_87c36_row1_col1\" class=\"data row1 col1\" >0.495000</td>\n",
              "    </tr>\n",
              "    <tr>\n",
              "      <th id=\"T_87c36_level0_row2\" class=\"row_heading level0 row2\" >2</th>\n",
              "      <td id=\"T_87c36_row2_col0\" class=\"data row2 col0\" >Decision Tree</td>\n",
              "      <td id=\"T_87c36_row2_col1\" class=\"data row2 col1\" >0.635000</td>\n",
              "    </tr>\n",
              "    <tr>\n",
              "      <th id=\"T_87c36_level0_row3\" class=\"row_heading level0 row3\" >3</th>\n",
              "      <td id=\"T_87c36_row3_col0\" class=\"data row3 col0\" >Logistic_Regression</td>\n",
              "      <td id=\"T_87c36_row3_col1\" class=\"data row3 col1\" >0.730000</td>\n",
              "    </tr>\n",
              "  </tbody>\n",
              "</table>\n"
            ],
            "text/plain": [
              "<pandas.io.formats.style.Styler at 0x7fc14775e590>"
            ]
          },
          "metadata": {},
          "execution_count": 79
        }
      ]
    },
    {
      "cell_type": "code",
      "source": [
        "class ResturantReview:\n",
        "\n",
        "  def predict(self,model,review_comment):\n",
        "    \"\"\"\n",
        "    Pre Processing\n",
        "    BOW transformation\n",
        "    TFIDF transformation\n",
        "\n",
        "    \"\"\"\n",
        "    review_dict = {\n",
        "        0:\"Disiked\",\n",
        "        1:\"Liked\",\n",
        "        \n",
        "    }\n",
        "    pre_processed_features = processor.process(review_comment)\n",
        "    bow_feature = final_word_vocab.transform(pre_processed_features)\n",
        "    tfIdf_feature = tfIdf_obj.transform(bow_feature)\n",
        "    return review_dict.get(max(set(model.predict(tfIdf_feature)), key = list(model.predict(tfIdf_feature)).count))"
      ],
      "metadata": {
        "id": "ntXnRN8laoiV"
      },
      "execution_count": null,
      "outputs": []
    },
    {
      "cell_type": "code",
      "source": [
        "reviewer = ResturantReview()\n",
        "reviewer.predict(model,\"What a bad taste, I don't recommend this restaurant\")"
      ],
      "metadata": {
        "colab": {
          "base_uri": "https://localhost:8080/",
          "height": 35
        },
        "id": "r3s9TmovbIlP",
        "outputId": "c466a76b-5e29-403c-bab7-ff425673794c"
      },
      "execution_count": null,
      "outputs": [
        {
          "output_type": "execute_result",
          "data": {
            "application/vnd.google.colaboratory.intrinsic+json": {
              "type": "string"
            },
            "text/plain": [
              "'Disiked'"
            ]
          },
          "metadata": {},
          "execution_count": 75
        }
      ]
    },
    {
      "cell_type": "code",
      "source": [
        "reviewer = ResturantReview()\n",
        "reviewer.predict(model,\"Lovely taste, this resturant has the best service\")"
      ],
      "metadata": {
        "colab": {
          "base_uri": "https://localhost:8080/",
          "height": 35
        },
        "id": "pdY8VdN7bWAj",
        "outputId": "83d4bfee-84b0-4c83-e078-379ed25f8551"
      },
      "execution_count": null,
      "outputs": [
        {
          "output_type": "execute_result",
          "data": {
            "application/vnd.google.colaboratory.intrinsic+json": {
              "type": "string"
            },
            "text/plain": [
              "'Liked'"
            ]
          },
          "metadata": {},
          "execution_count": 76
        }
      ]
    },
    {
      "cell_type": "markdown",
      "source": [
        "## Conclusion"
      ],
      "metadata": {
        "id": "OSH9ag3qp6S6"
      }
    },
    {
      "cell_type": "markdown",
      "source": [
        "Dataset:\n",
        "\n",
        "The dateset having 1000 records had a perfect balance of 1 and 0 labels, which later were mapped as\n",
        "\n",
        "  \n",
        "    0:\"Disiked\"\n",
        "    1:\"Liked\"\n",
        "        \n",
        "\n",
        "\n"
      ],
      "metadata": {
        "id": "tkQOgRl2p8mk"
      }
    },
    {
      "cell_type": "markdown",
      "source": [
        "The predict function did a series of jobs\n",
        "\n",
        "*   Pre Processing\n",
        "*   BOW transformation\n",
        "*   TFIDF transformation\n",
        "\n",
        "The output of this chain of NLP processes gave a list of probable outputs out of which the maxximum occurance one was taken as the final classification.\n",
        "\n",
        "The model was not trained enough for predicting the sarcastic reviews."
      ],
      "metadata": {
        "id": "__DpSt9LqR_m"
      }
    }
  ]
}